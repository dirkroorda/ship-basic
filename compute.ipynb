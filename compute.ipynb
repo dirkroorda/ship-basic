{
 "cells": [
  {
   "cell_type": "markdown",
   "metadata": {},
   "source": [
    "# Programma om hypothetische lastage te berekenen\n",
    "\n",
    "*Bron: Heiko Tjalsma*\n",
    "\n",
    "This is the literal program text in GW-BASIC, as shown by means of running\n",
    "an [emulation of BASIC](http://robhagemans.github.io/pcbasic/)."
   ]
  },
  {
   "cell_type": "markdown",
   "metadata": {},
   "source": [
    "``` basic\n",
    "10 REM programma om hypothetische lastage te berekenen                          \n",
    "20 REM uit bekende lengte, wijdte, holte en eventueel verdek                    \n",
    "30 REM herziene versie van P.C. van Royen (14-12-1986).                         \n",
    "35 CLS                                                                          \n",
    "40 INPUT \"lengte schip = \";A                                                    \n",
    "50 INPUT \"wijdte schip = \";B                                                    \n",
    "60 INPUT \"holte schip = \";C                                                     \n",
    "70 INPUT \"verdek = \";D                                                          \n",
    "80 IF D=0 AND A<110 THEN GOTO 120                                               \n",
    "90 IF D=0 AND A=>110 THEN GOTO 130                                              \n",
    "100 IF D>0 AND A<110 THEN GOTO 140                                              \n",
    "110 IF D>0 AND A>120 THEN GOTO 150                                              \n",
    "115 IF D>0 AND A=>110 AND A<=120 THEN GOTO 160                                  \n",
    "120 E=-115.0865+(2.194304*A)-(.841662*C)+(.3597159*B):GOTO 200                  \n",
    "130 E=-358.6089+(12.76638*B)+(1.744799*A)-(.4994334*C):GOTO 200                 \n",
    "140 E=-145.8478+(2.072686*A)-(3.707251*B)-(9.768832*D)+(2.002968*C):GOTO 200    \n",
    "150 E=-355.3+(12.30177*B)+(1.674709*A)-(4.500679*D)+(3.886467*C):GOTO 200       \n",
    "160 E=-240.8991+(15.46706*B)-(11.5794*D)+(.9849779*A)-(3.246829*C):GOTO 200     \n",
    "200 PRINT \"hypothetische lastage = \";E                                          \n",
    "210 PRINT \"druk voor de berekening van een nieuwe lastage op functietoets F2.\"  \n",
    "220 PRINT \"bedenk dan wel dat de huidige lastage van het scherm wordt geveegd.\" \n",
    "```"
   ]
  },
  {
   "cell_type": "markdown",
   "metadata": {},
   "source": [
    "Here is a near literal translation into Python:"
   ]
  },
  {
   "cell_type": "code",
   "execution_count": 13,
   "metadata": {},
   "outputs": [
    {
     "name": "stdin",
     "output_type": "stream",
     "text": [
      "lengte schip 30\n",
      "wijdte schip 6\n",
      "holte schip 5\n",
      "verdek 1\n"
     ]
    }
   ],
   "source": [
    "a = input(\"lengte schip\")\n",
    "b = input(\"wijdte schip\")\n",
    "c = input(\"holte schip\")\n",
    "d = input(\"verdek\")"
   ]
  },
  {
   "cell_type": "code",
   "execution_count": 14,
   "metadata": {},
   "outputs": [],
   "source": [
    "a = int(a)\n",
    "b = int(b)\n",
    "c = int(c)\n",
    "d = int(d)"
   ]
  },
  {
   "cell_type": "code",
   "execution_count": 15,
   "metadata": {},
   "outputs": [],
   "source": [
    "e = (\n",
    "  -115.0865 + (2.194304 * a) - (.841662 * c) + (.3597159 * b)\n",
    "  if d == 0 and a < 110 else\n",
    "  -358.6089 + (12.76638 * b) + (1.744799 * a) - (.4994334 * c)\n",
    "  if d == 0 and a >= 110 else\n",
    "  -145.8478 + (2.072686 * a) - (3.707251 * b) - (9.768832 * d) + (2.002968 * c)\n",
    "  if d > 0 and a < 110 else\n",
    "  -355.3 + (12.30177 * b) + (1.674709 * a) - (4.500679 * d) + (3.886467 * c)\n",
    "  if d > 0 and a > 120 else\n",
    "  -240.8991 + (15.46706 * b) - (11.5794 * d) + (0.9849779 * a) - (3.246829 * c)\n",
    "  if d > 0 and a >= 110 and a <= 120 else\n",
    "  None\n",
    ")"
   ]
  },
  {
   "cell_type": "code",
   "execution_count": 16,
   "metadata": {},
   "outputs": [
    {
     "name": "stdout",
     "output_type": "stream",
     "text": [
      "hypothetische lastage = -105.66471800000002\n"
     ]
    }
   ],
   "source": [
    "print(f\"hypothetische lastage = {e}\")"
   ]
  },
  {
   "cell_type": "markdown",
   "metadata": {},
   "source": [
    "# As a function\n",
    "\n",
    "Now we turn the program into a Python function that can easily be fed multiple\n",
    "parameters:"
   ]
  },
  {
   "cell_type": "code",
   "execution_count": 22,
   "metadata": {},
   "outputs": [],
   "source": [
    "def lastage(a, b, c, d):\n",
    "  return (\n",
    "    -115.0865 + (2.194304 * a) - (.841662 * c) + (.3597159 * b)\n",
    "    if d == 0 and a < 110 else\n",
    "    -358.6089 + (12.76638 * b) + (1.744799 * a) - (.4994334 * c)\n",
    "    if d == 0 and a >= 110 else\n",
    "    -145.8478 + (2.072686 * a) - (3.707251 * b) - (9.768832 * d) + (2.002968 * c)\n",
    "    if d > 0 and a < 110 else\n",
    "    -355.3 + (12.30177 * b) + (1.674709 * a) - (4.500679 * d) + (3.886467 * c)\n",
    "    if d > 0 and a > 120 else\n",
    "    -240.8991 + (15.46706 * b) - (11.5794 * d) + (0.9849779 * a) - (3.246829 * c)\n",
    "    if d > 0 and a >= 110 and a <= 120 else\n",
    "    None\n",
    "  )"
   ]
  },
  {
   "cell_type": "markdown",
   "metadata": {},
   "source": [
    "Input"
   ]
  },
  {
   "cell_type": "code",
   "execution_count": 23,
   "metadata": {},
   "outputs": [],
   "source": [
    "lengte = 30\n",
    "wijdte = 6\n",
    "holte = 5\n",
    "verdek = 1"
   ]
  },
  {
   "cell_type": "code",
   "execution_count": 24,
   "metadata": {},
   "outputs": [
    {
     "name": "stdout",
     "output_type": "stream",
     "text": [
      "-105.66471800000002\n"
     ]
    }
   ],
   "source": [
    "print(lastage(lengte, wijdte, holte, verdek))"
   ]
  },
  {
   "cell_type": "markdown",
   "metadata": {},
   "source": [
    "Now we can compute the function on a number of inputs:"
   ]
  },
  {
   "cell_type": "code",
   "execution_count": 26,
   "metadata": {},
   "outputs": [
    {
     "name": "stdout",
     "output_type": "stream",
     "text": [
      "lengte=100, wijdte=6, holte=3, verdek=0: lastage=103.98\n",
      "lengte=105, wijdte=6, holte=3, verdek=0: lastage=114.95\n",
      "lengte=110, wijdte=6, holte=3, verdek=0: lastage=-91.58\n",
      "lengte=115, wijdte=6, holte=3, verdek=0: lastage=-82.86\n",
      "lengte=120, wijdte=6, holte=3, verdek=0: lastage=-74.13\n",
      "lengte=125, wijdte=6, holte=3, verdek=0: lastage=-65.41\n",
      "lengte=130, wijdte=6, holte=3, verdek=0: lastage=-56.69\n",
      "lengte=135, wijdte=6, holte=3, verdek=0: lastage=-47.96\n",
      "lengte=100, wijdte=6, holte=3, verdek=1: lastage= 35.42\n",
      "lengte=105, wijdte=6, holte=3, verdek=1: lastage= 45.78\n",
      "lengte=110, wijdte=6, holte=3, verdek=1: lastage=-61.07\n",
      "lengte=115, wijdte=6, holte=3, verdek=1: lastage=-56.14\n",
      "lengte=120, wijdte=6, holte=3, verdek=1: lastage=-51.22\n",
      "lengte=125, wijdte=6, holte=3, verdek=1: lastage=-64.99\n",
      "lengte=130, wijdte=6, holte=3, verdek=1: lastage=-56.62\n",
      "lengte=135, wijdte=6, holte=3, verdek=1: lastage=-48.24\n",
      "lengte=100, wijdte=6, holte=3, verdek=2: lastage= 25.65\n",
      "lengte=105, wijdte=6, holte=3, verdek=2: lastage= 36.01\n",
      "lengte=110, wijdte=6, holte=3, verdek=2: lastage=-72.65\n",
      "lengte=115, wijdte=6, holte=3, verdek=2: lastage=-67.72\n",
      "lengte=120, wijdte=6, holte=3, verdek=2: lastage=-62.80\n",
      "lengte=125, wijdte=6, holte=3, verdek=2: lastage=-69.49\n",
      "lengte=130, wijdte=6, holte=3, verdek=2: lastage=-61.12\n",
      "lengte=135, wijdte=6, holte=3, verdek=2: lastage=-52.75\n",
      "lengte=100, wijdte=6, holte=3, verdek=3: lastage= 15.88\n",
      "lengte=105, wijdte=6, holte=3, verdek=3: lastage= 26.24\n",
      "lengte=110, wijdte=6, holte=3, verdek=3: lastage=-84.23\n",
      "lengte=115, wijdte=6, holte=3, verdek=3: lastage=-79.30\n",
      "lengte=120, wijdte=6, holte=3, verdek=3: lastage=-74.38\n",
      "lengte=125, wijdte=6, holte=3, verdek=3: lastage=-73.99\n",
      "lengte=130, wijdte=6, holte=3, verdek=3: lastage=-65.62\n",
      "lengte=135, wijdte=6, holte=3, verdek=3: lastage=-57.25\n",
      "lengte=100, wijdte=6, holte=3, verdek=4: lastage=  6.11\n",
      "lengte=105, wijdte=6, holte=3, verdek=4: lastage= 16.47\n",
      "lengte=110, wijdte=6, holte=3, verdek=4: lastage=-95.81\n",
      "lengte=115, wijdte=6, holte=3, verdek=4: lastage=-90.88\n",
      "lengte=120, wijdte=6, holte=3, verdek=4: lastage=-85.96\n",
      "lengte=125, wijdte=6, holte=3, verdek=4: lastage=-78.49\n",
      "lengte=130, wijdte=6, holte=3, verdek=4: lastage=-70.12\n",
      "lengte=135, wijdte=6, holte=3, verdek=4: lastage=-61.75\n"
     ]
    }
   ],
   "source": [
    "wijdte = 6\n",
    "holte = 3\n",
    "\n",
    "for verdek in [0, 1, 2, 3, 4]:\n",
    "  for lengte in range(100, 140, 5):\n",
    "    last = lastage(lengte, wijdte, holte, verdek) \n",
    "    print(f\"lengte={lengte}, wijdte={wijdte}, holte={holte}, verdek={verdek}: lastage={last:>6.2f}\")"
   ]
  },
  {
   "cell_type": "code",
   "execution_count": null,
   "metadata": {},
   "outputs": [],
   "source": []
  }
 ],
 "metadata": {
  "kernelspec": {
   "display_name": "Python 3",
   "language": "python",
   "name": "python3"
  },
  "language_info": {
   "codemirror_mode": {
    "name": "ipython",
    "version": 3
   },
   "file_extension": ".py",
   "mimetype": "text/x-python",
   "name": "python",
   "nbconvert_exporter": "python",
   "pygments_lexer": "ipython3",
   "version": "3.7.2"
  }
 },
 "nbformat": 4,
 "nbformat_minor": 4
}
